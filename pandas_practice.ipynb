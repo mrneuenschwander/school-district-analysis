{
 "cells": [
  {
   "cell_type": "code",
   "execution_count": null,
   "id": "41aa2b51",
   "metadata": {},
   "outputs": [],
   "source": [
    "import pandas as pd"
   ]
  },
  {
   "cell_type": "code",
   "execution_count": null,
   "id": "3a5df574",
   "metadata": {
    "scrolled": true
   },
   "outputs": [],
   "source": [
    "# List of high schools\n",
    "school_id = range(15)\n",
    "high_schools = [\"Huang High School\", \"Figueroa High School\", \n",
    "                \"Shelton High School\", \"Hernandez High School\",\n",
    "                \"Griffin High School\",\"Wilson High School\", \n",
    "                \"Cabrera High School\", \"Bailey High School\", \n",
    "                \"Holden High School\", \"Pena High School\", \n",
    "                \"Wright High School\",\"Rodriguez High School\", \n",
    "                \"Johnson High School\", \"Ford High School\", \n",
    "                \"Thomas High School\"]\n",
    "type_of_school = [\"District\", \"District\",\n",
    "                 \"Charter\", \"District\",\n",
    "                 \"Charter\", \"Charter\",\n",
    "                 \"Charter\", \"District\",\n",
    "                 \"Charter\", \"Charter\",\n",
    "                 \"Charter\", \"District\",\n",
    "                 \"District\", \"District\",\n",
    "                 \"Charter\"]\n",
    "# Initialize a new DataFrame.\n",
    "school_series_df = pd.DataFrame()\n",
    "\n",
    "# Add the list to a new DataFrame.\n",
    "school_series_df[\"School ID\"] = school_id\n",
    "school_series_df[\"School Name\"] = high_schools\n",
    "school_series_df[\"Type\"] = type_of_school\n",
    "\n",
    "school_series_df"
   ]
  },
  {
   "cell_type": "code",
   "execution_count": null,
   "id": "aae8854c",
   "metadata": {},
   "outputs": [],
   "source": [
    "# A dictionary of high schools and the type of school.\n",
    "high_school_types = [{\"High School\": \"Griffin\", \"Type\":\"District\"},\n",
    "                    {\"High School\": \"Figueroa\", \"Type\": \"District\"},\n",
    "                    {\"High School\": \"Wilson\", \"Type\": \"Charter\"},\n",
    "                    {\"High School\": \"Wright\", \"Type\": \"Charter\"}]\n",
    "\n",
    "for schools in high_school_types:\n",
    "    for types in schools.values():\n",
    "        print(types)"
   ]
  },
  {
   "cell_type": "code",
   "execution_count": null,
   "id": "245841fd",
   "metadata": {},
   "outputs": [],
   "source": [
    "# A dictionary of high schools\n",
    "high_school_dicts = [{\"School ID\": 0, \"school_name\": \"Huang High School\", \"type\": \"District\"},\n",
    "                    {\"School ID\": 1, \"school_name\": \"Figueroa High School\", \"type\": \"District\"},\n",
    "                    {\"School ID\": 2, \"school_name\":\"Shelton High School\", \"type\": \"Charter\"},\n",
    "                    {\"School ID\": 3, \"school_name\":\"Hernandez High School\", \"type\": \"District\"},\n",
    "                    {\"School ID\": 4, \"school_name\":\"Griffin High School\", \"type\": \"Charter\"}]\n",
    "\n",
    "\n",
    "#This creates a DataFrame from a list of dictionaries\n",
    "school_df = pd.DataFrame(high_school_dicts)\n",
    "school_df"
   ]
  },
  {
   "cell_type": "code",
   "execution_count": null,
   "id": "e2b1050d",
   "metadata": {},
   "outputs": [],
   "source": [
    "school_df.columns\n",
    "school_df.index\n",
    "school_df.values"
   ]
  },
  {
   "cell_type": "code",
   "execution_count": null,
   "id": "9481a7f5",
   "metadata": {},
   "outputs": [],
   "source": [
    "# Three separate lists of information on high schools\n",
    "school_id = [0, 1, 2, 3, 4]\n",
    "\n",
    "school_name = [\"Huang High School\", \"Figueroa High School\",\n",
    "\"Shelton High School\", \"Hernandez High School\",\"Griffin High School\"]\n",
    "\n",
    "type_of_school = [\"District\", \"District\", \"Charter\", \"District\",\"Charter\"]\n",
    "\n",
    "# Initialize a new DataFrame.\n",
    "schools_df = pd.DataFrame()\n",
    "\n",
    "# Add the list to a new DataFrame.\n",
    "schools_df[\"School ID\"] = school_id\n",
    "schools_df[\"School Name\"] = school_name\n",
    "schools_df[\"Type\"] = type_of_school\n",
    "\n",
    "# Print the DataFrame.\n",
    "schools_df"
   ]
  },
  {
   "cell_type": "code",
   "execution_count": null,
   "id": "a3d1fef1",
   "metadata": {},
   "outputs": [],
   "source": [
    "# Create a dictionary of information on high schools.\n",
    "high_schools_dict = {'School ID': school_id, 'school_name':school_name, 'type':type_of_school}"
   ]
  },
  {
   "cell_type": "code",
   "execution_count": null,
   "id": "a176e88b",
   "metadata": {},
   "outputs": [],
   "source": [
    "schools_dict_df = high_schools_dict\n",
    "schools_dict_df"
   ]
  }
 ],
 "metadata": {
  "kernelspec": {
   "display_name": "PythonData",
   "language": "python",
   "name": "pythondata"
  },
  "language_info": {
   "codemirror_mode": {
    "name": "ipython",
    "version": 3
   },
   "file_extension": ".py",
   "mimetype": "text/x-python",
   "name": "python",
   "nbconvert_exporter": "python",
   "pygments_lexer": "ipython3",
   "version": "3.9.13"
  }
 },
 "nbformat": 4,
 "nbformat_minor": 5
}
