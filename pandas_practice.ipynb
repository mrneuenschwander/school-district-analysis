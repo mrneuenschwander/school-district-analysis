{
 "cells": [
  {
   "cell_type": "code",
   "execution_count": null,
   "id": "bdc771d4",
   "metadata": {},
   "outputs": [],
   "source": [
    "import pandas as pd"
   ]
  },
  {
   "cell_type": "code",
   "execution_count": null,
   "id": "c5101bfc",
   "metadata": {},
   "outputs": [],
   "source": [
    "# List of high schools\n",
    "high_schools = [\"Huang High School\", \"Figueroa High School\", \n",
    "                \"Shelton High School\", \"Hernandez High School\",\n",
    "                \"Griffin High School\",\"Wilson High School\", \n",
    "                \"Cabrera High School\", \"Bailey High School\", \n",
    "                \"Holden High School\", \"Pena High School\", \n",
    "                \"Wright High School\",\"Rodriguez High School\", \n",
    "                \"Johnson High School\", \"Ford High School\", \n",
    "                \"Thomas High School\"]"
   ]
  },
  {
   "cell_type": "code",
   "execution_count": null,
   "id": "936e41bf",
   "metadata": {},
   "outputs": [],
   "source": [
    "# A dictionary of high schools\n",
    "high_school_dicts = [{\"School ID\": 0, \"school_name\": \"Huang High School\", \"type\": \"District\"},\n",
    "                    {\"School ID\": 1, \"school_name\": \"Figueroa High School\", \"type\": \"District\"},\n",
    "                    {\"School ID\": 2, \"school_name\":\"Shelton High School\", \"type\": \"Charter\"},\n",
    "                    {\"School ID\": 3, \"school_name\":\"Hernandez High School\", \"type\": \"District\"},\n",
    "                    {\"School ID\": 4, \"school_name\":\"Griffin High School\", \"type\": \"Charter\"}]\n"
   ]
  },
  {
   "cell_type": "code",
   "execution_count": null,
   "id": "b42bd34a",
   "metadata": {},
   "outputs": [],
   "source": [
    "#This creates a DataFrame from a list of dictionaries\n",
    "school_df = pd.DataFrame(high_school_dicts)\n",
    "school_df"
   ]
  },
  {
   "cell_type": "code",
   "execution_count": null,
   "id": "eb22d762",
   "metadata": {},
   "outputs": [],
   "source": [
    "# Three separate lists of information on high schools\n",
    "school_id = [0, 1, 2, 3, 4]\n",
    "\n",
    "school_name = [\"Huang High School\", \"Figueroa High School\",\n",
    "\"Shelton High School\", \"Hernandez High School\",\"Griffin High School\"]\n",
    "\n",
    "type_of_school = [\"District\", \"District\", \"Charter\", \"District\",\"Charter\"]"
   ]
  },
  {
   "cell_type": "code",
   "execution_count": null,
   "id": "e5b8bedb",
   "metadata": {},
   "outputs": [],
   "source": [
    "# Initialize a new DataFrame.\n",
    "schools_df = pd.DataFrame()"
   ]
  },
  {
   "cell_type": "code",
   "execution_count": null,
   "id": "4bea082f",
   "metadata": {},
   "outputs": [],
   "source": [
    "# Add the list to a new DataFrame.\n",
    "schools_df[\"School ID\"] = school_id\n",
    "schools_df[\"School Name\"] = school_name\n",
    "schools_df[\"Type\"] = type_of_school\n",
    "# Print the DataFrame.\n",
    "schools_df"
   ]
  },
  {
   "cell_type": "code",
   "execution_count": null,
   "id": "565c6abc",
   "metadata": {
    "scrolled": true
   },
   "outputs": [],
   "source": [
    "school_series = pd.Series(high_schools)\n",
    "index = 0\n",
    "for index in school_series:\n",
    "    print(index)"
   ]
  },
  {
   "cell_type": "code",
   "execution_count": null,
   "id": "9bd5416d",
   "metadata": {},
   "outputs": [],
   "source": [
    "# A dictionary of high schools and the type of school.\n",
    "high_school_types = [{\"High School\": \"Griffin\", \"Type\":\"District\"},\n",
    "                    {\"High School\": \"Figueroa\", \"Type\": \"District\"},\n",
    "                    {\"High School\": \"Wilson\", \"Type\": \"Charter\"},\n",
    "                    {\"High School\": \"Wright\", \"Type\": \"Charter\"}]\n",
    "\n",
    "for schools in high_school_types:\n",
    "    for types in schools.values():\n",
    "        print(types)"
   ]
  }
 ],
 "metadata": {
  "kernelspec": {
   "display_name": "PythonData",
   "language": "python",
   "name": "pythondata"
  },
  "language_info": {
   "codemirror_mode": {
    "name": "ipython",
    "version": 3
   },
   "file_extension": ".py",
   "mimetype": "text/x-python",
   "name": "python",
   "nbconvert_exporter": "python",
   "pygments_lexer": "ipython3",
   "version": "3.9.13"
  }
 },
 "nbformat": 4,
 "nbformat_minor": 5
}
